{
 "cells": [
  {
   "cell_type": "markdown",
   "metadata": {},
   "source": [
    "# Gene Expression\n",
    "\n",
    "Python provides us with a really handy means to analyze our data. In this exercise, we are going to identify genes that were not expressed in a microarray experiment. We'll read gene expression values from a matrix. We'll be finding these genes by plotting with a python library called [matplotlib](http://matplotlib.org/)."
   ]
  },
  {
   "cell_type": "code",
   "execution_count": 1,
   "metadata": {},
   "outputs": [
    {
     "name": "stdout",
     "output_type": "stream",
     "text": [
      "Populating the interactive namespace from numpy and matplotlib\n"
     ]
    },
    {
     "data": {
      "image/png": "[encoded data removed]",
      "text/plain": [
       "<Figure size 432x288 with 1 Axes>"
      ]
     },
     "metadata": {
      "needs_background": "light"
     },
     "output_type": "display_data"
    }
   ],
   "source": [
    "# Magic line (Command specific to iPython Notebooks)\n",
    "# that makes plots show up in the notebook\n",
    "%pylab inline\n",
    "\n",
    "# Import numpy to generate random numbers\n",
    "import numpy as np\n",
    "import matplotlib.pyplot as plt\n",
    "\n",
    "mu, sigma = 100, 15\n",
    "x = mu + sigma*np.random.randn(10000)\n",
    "\n",
    "# the histogram of the data\n",
    "n, bins, patches = plt.hist(x, 50, density=1, facecolor='green', alpha=0.75)\n",
    "\n",
    "plt.xlabel('Smarts')\n",
    "plt.ylabel('Probability')\n",
    "plt.title(r'$\\mathrm{Histogram\\ of\\ IQ:}\\ \\mu=100,\\ \\sigma=15$')\n",
    "plt.axis([40, 160, 0, 0.03])\n",
    "plt.grid(True)\n",
    "\n",
    "plt.show()"
   ]
  },
  {
   "cell_type": "markdown",
   "metadata": {},
   "source": [
    "We can also read values from a file that is included in the assignment directory. For example, let's read a file and plot the distribution of gene expression values for the first gene in the file."
   ]
  },
  {
   "cell_type": "code",
   "execution_count": 2,
   "metadata": {},
   "outputs": [
    {
     "name": "stdout",
     "output_type": "stream",
     "text": [
      "Populating the interactive namespace from numpy and matplotlib\n"
     ]
    },
    {
     "data": {
      "image/png": "[encoded data removed]",
      "text/plain": [
       "<Figure size 432x288 with 1 Axes>"
      ]
     },
     "metadata": {
      "needs_background": "light"
     },
     "output_type": "display_data"
    }
   ],
   "source": [
    "%pylab inline\n",
    "import matplotlib.pyplot as plt\n",
    "\n",
    "tcga_mini = open(\"tcga_ovca_mini.txt\") #tell python that we're going to want to read a file\n",
    "#tcga_mini is now something called a \"filehandle\" and we can read lines from the file\n",
    "\n",
    "header = tcga_mini.readline().strip().split('\\t') #read the first line, remove whitespace, separate by tabs\n",
    "#we don't need this header for this problem, because it contains a list of sample labels\n",
    "\n",
    "#get the gene expression list for the first gene\n",
    "first_gene_list = tcga_mini.readline().strip().split('\\t')\n",
    "\n",
    "#get the gene's name and remove it from the list\n",
    "gene_name = first_gene_list.pop(0)\n",
    "\n",
    "#make a list for expression values\n",
    "expression_values = []\n",
    "\n",
    "#go through all of the remaining items, make them floats, and put them onto expression_values\n",
    "for expr_val in first_gene_list:\n",
    "    expression_values.append(float(expr_val))\n",
    "\n",
    "#use the plotting code above, but modify it to use expression_values\n",
    "n, bins, patches = plt.hist(expression_values, 10, density=1, facecolor='green', alpha=0.75)\n",
    "\n",
    "plt.xlabel('Expression')\n",
    "plt.ylabel('Count')\n",
    "plt.title('Histogram of ' + gene_name)\n",
    "plt.axis([2.5, 5, 0, 2.5])\n",
    "plt.grid(True)\n",
    "\n",
    "plt.show()"
   ]
  },
  {
   "cell_type": "markdown",
   "metadata": {},
   "source": [
    "When we're working with large files, it can help to work with a small test file. The file tcga_ovca_mini.txt has only the first five lines of the full file (tcga_ovca.txt).\n",
    "\n",
    "We're interested in identifying genes that look like background hybridization values on the array and not expressed. When we look at gene expression arrays, we can often observe this in a bimodal distribution of values, with one narrow peak at the low end of the distribution, and then one higher and broader peak. Some genes may be expressed in some samples but not others, which makes the mean a poor measure. Instead we can use the extreme of each gene's distribution across samples, for example the 95th percentile.\n",
    "\n",
    "    # Hint 1:\n",
    "    int(.95*len(expression_values))\n",
    "    # might be helpful.\n",
    "    \n",
    "    # Hint 2:\n",
    "    for line in filehandle:\n",
    "        #will iterate through each line of the file from the current location onward.\n",
    "\n",
    "**Problem Set Problem 1.1 -- 8 Points**\n",
    "Write the python code required to graph, for tcga_ovca_mini.txt, the distribution of the 95th percentile using a matplotlib histogram."
   ]
  },
  {
   "cell_type": "code",
   "execution_count": 6,
   "metadata": {},
   "outputs": [
    {
     "name": "stdout",
     "output_type": "stream",
     "text": [
      "[3.08584020276059, 8.38595161334597, 3.35823006774768, 3.201299171795]\n"
     ]
    }
   ],
   "source": [
    "# FILL IN CODE\n",
    "tcga_mini = open(\"tcga_ovca_mini.txt\")\n",
    "length = len(tcga_mini.readlines())\n",
    "dist = []\n",
    "for i in range(1,length):\n",
    "    tcga_mini = open(\"tcga_ovca_mini.txt\")\n",
    "    gene_list = tcga_mini.readlines()[i].strip().split('\\t')\n",
    "    gene_list.pop(0)\n",
    "    expression_values = []\n",
    "    for expr_val in gene_list:\n",
    "        expression_values.append(float(expr_val))\n",
    "    \n",
    "    loc = int(.95*len(expression_values))\n",
    "    dist.append(expression_values[loc])\n",
    "    \n",
    "print(dist)"
   ]
  },
  {
   "cell_type": "code",
   "execution_count": 7,
   "metadata": {},
   "outputs": [
    {
     "data": {
      "image/png": "[encoded data removed]",
      "text/plain": [
       "<Figure size 432x288 with 1 Axes>"
      ]
     },
     "metadata": {
      "needs_background": "light"
     },
     "output_type": "display_data"
    }
   ],
   "source": [
    "# plot\n",
    "n, bins, patches = plt.hist(dist, 10, density=1, facecolor='green', alpha=0.75)\n",
    "\n",
    "plt.xlabel('Expression')\n",
    "plt.ylabel('Count')\n",
    "plt.title('Histogram of the 95th percentile')\n",
    "plt.axis([2, 10, 0, 2])\n",
    "plt.grid(True)\n",
    "\n",
    "plt.show()"
   ]
  },
  {
   "cell_type": "markdown",
   "metadata": {},
   "source": [
    "**Problem Set Problem 1.2 -- 1 Point**\n",
    "Write code that graphs, for tcga_ovca.txt, the distribution of the 95th percentile. This will be extremely similar to the code above, but you may find that you need to change your implementation to work for the complete file if it is not computationally efficient."
   ]
  },
  {
   "cell_type": "code",
   "execution_count": 8,
   "metadata": {},
   "outputs": [],
   "source": [
    "# FILL IN CODE\n",
    "tcga = open(\"tcga_ovca.txt\")\n",
    "length = len(tcga.readlines())\n",
    "dist = []\n",
    "for i in range(1,length):\n",
    "    tcga = open(\"tcga_ovca.txt\")\n",
    "    gene_list = tcga.readlines()[i].strip().split('\\t')\n",
    "    gene_list.pop(0)\n",
    "    expression_values = []\n",
    "    for expr_val in gene_list:\n",
    "        expression_values.append(float(expr_val))\n",
    "    \n",
    "    loc = int(.95*len(expression_values))\n",
    "    dist.append(expression_values[loc])\n"
   ]
  },
  {
   "cell_type": "code",
   "execution_count": 9,
   "metadata": {},
   "outputs": [
    {
     "data": {
      "text/plain": [
       "12981"
      ]
     },
     "execution_count": 9,
     "metadata": {},
     "output_type": "execute_result"
    }
   ],
   "source": [
    "len(dist)"
   ]
  },
  {
   "cell_type": "code",
   "execution_count": 17,
   "metadata": {},
   "outputs": [
    {
     "data": {
      "image/png": "[encoded data removed]",
      "text/plain": [
       "<Figure size 432x288 with 1 Axes>"
      ]
     },
     "metadata": {
      "needs_background": "light"
     },
     "output_type": "display_data"
    }
   ],
   "source": [
    "# plot\n",
    "n, bins, patches = plt.hist(dist, 35, density=1, facecolor='green', alpha=0.75)\n",
    "\n",
    "plt.xlabel('Expression')\n",
    "plt.ylabel('Count')\n",
    "plt.title('Histogram of the 95th percentile')\n",
    "plt.axis([1.8, 14, 0, 0.37])\n",
    "plt.grid(True)\n",
    "\n",
    "plt.show()"
   ]
  },
  {
   "cell_type": "markdown",
   "metadata": {},
   "source": [
    "**Problem Set Problem 1.3 -- 1 Point**\n",
    "What would be a good cutpoint to say that a gene is actually expressed in these data?"
   ]
  },
  {
   "cell_type": "markdown",
   "metadata": {},
   "source": [
    "We would like to choose a cut point where the bimodal distribution can be well separated. From the above plot we can see that a good cut point to split the higher peak on the left and the lower peak on the right right would be around 4.7."
   ]
  },
  {
   "cell_type": "code",
   "execution_count": null,
   "metadata": {},
   "outputs": [],
   "source": [
    "# ASSIGNMENT ENDS"
   ]
  }
 ],
 "metadata": {
  "kernelspec": {
   "display_name": "Python 3",
   "language": "python",
   "name": "python3"
  },
  "language_info": {
   "codemirror_mode": {
    "name": "ipython",
    "version": 3
   },
   "file_extension": ".py",
   "mimetype": "text/x-python",
   "name": "python",
   "nbconvert_exporter": "python",
   "pygments_lexer": "ipython3",
   "version": "3.7.4"
  },
  "name": "Assignment-01.ipynb"
 },
 "nbformat": 4,
 "nbformat_minor": 2
}
